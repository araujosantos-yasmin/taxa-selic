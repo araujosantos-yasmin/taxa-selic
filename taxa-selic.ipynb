{
 "cells": [
  {
   "cell_type": "markdown",
   "metadata": {},
   "source": [
    "# *Taxa Selic* - Projeto de análise de dados"
   ]
  },
  {
   "cell_type": "markdown",
   "metadata": {},
   "source": [
    "***\n",
    "# Introdução\n",
    "***"
   ]
  },
  {
   "cell_type": "markdown",
   "metadata": {},
   "source": [
    " Taxa Selic é a taxa básica de juros brasileira.\n",
    " \n",
    " Seu nome vem da sigla do Sistema Especial de Liquidação e de Custódia, infraestrutura do mercado financeiro administrada pelo Banco Central onde são transacionados títulos públicos federais. A taxa média ajustada dos financiamentos diários apurados por esse sistema corresponde à taxa Selic.\n",
    " \n",
    " A Selic foi criada em 1979, quando o Brasil vivia um cenário de hiperinflação e o governo buscava uma ferramenta capaz de controlá-lo e manter o poder de compra da população. \n",
    " \n",
    " Uma nova alíquota é definida pelo Comitê de Política Monetária do Banco Central, o Copom, a cada 45 dias. Portanto, a vigência é um pouco maior do que 30 dias. \n",
    " \n",
    " Por sua vez, a reunião do Comitê define qual será a taxa anual. A taxa Selic hoje é de 13,75% ao ano. Esse valor tem sido mantido desde setembro de 2022. \n",
    " Assim, durante o ano, a taxa varia de acordo com os incrementos ou cortes que o comitê faz.  Devido a mudanças no índice ao longo do ano, é possível calcular a Taxa Selic acumulada, que se refere à soma do valor da taxa a cada mês, indicando o valor acumulado do ano.\n",
    " \n",
    " Dois conceitos devem ser diferenciados sobre a definição da taxa: a Taxa Selic Over e a Taxa Selic Meta. A Meta é aquela que foi estipulada pelo Copom durante a última reunião do período, é a principal taxa de juros nacional e  regula todas as outras. Enquanto a Over é mais complexa e envolve o percentual real que está sendo colocado em prática na economia. \n",
    " A Selic Over está especialmente ligada a empréstimos entre bancos, que costumam ser de curto prazo. A média das negociações que acontecem entre os bancos diariamente dá origem à Taxa Selic Over. De modo geral, a Meta e a Over são próximas. Quando o valor está se distanciando muito, o Banco Central pode intervir comprando ou vendendo títulos.\n",
    " \n",
    " A taxa Selic dita o ritmo da economia, pois afeta pilares da vida financeira como inflação, rendimentos de investimentos e taxas de empréstimos.\n",
    "  \n",
    "- Inflação\n",
    " \n",
    " Maior oferta de crédito, como empréstimos ou financiamentos, são como um motor de consumo, por ocasionarem mais gastos resultam em maior inflação.\n",
    " Aumentar a taxa Selic desacelera a economia, limitando a quantidade de dinheiro em circulação e diminuindo a pressão da demanda, o que impede que a inflação fique muito alta. \n",
    " Se os preços estiverem subindo de acordo com a chamada “meta de inflação”, o Copom pode decidir baixar a Selic e incentivar o crédito e consumo, aquecendo a economia. \n",
    "  É importante ressaltar que esse mecanismo de controle de inflação é indicado quando os preços sobem por alta da demanda, podendo não ser suficiente diante de circunstâncias de queda de oferta, como desastres climáticos, pandemias ou guerras.\n",
    "  \n",
    "\n",
    "- Taxas de empréstimos\n",
    "\n",
    " A taxa Selic influencia todas as demais taxas de juros do país, como em financiamentos, retornos sobre aplicações financeiras e aquelas cobradas por empréstimos.\n",
    " Portanto, quando há uma queda na Selic, a tendência é de que bancos e instituições financeiras a acompanhem, diminuindo suas taxas de juros e tornando o crédito mais acessível à população.\n",
    " \n",
    "\n",
    "- Rendimentos de investimentos\n",
    " \n",
    " Há uma interferência direta da taxa Selic em rendimentos de ativos de renda fixa atrelados a ela, como Tesouro Selic e indiretamente em investimentos atrelados ao CDI (Certificado de Depósito Interbancário) como CDB; LCI, LCA e LC; FI e títulos atrelados ao IPCA (índice de inflação oficial do país) e na poupança. \n",
    " Nesse caso, uma redução da Selic faz com que esses títulos públicos indexados e as aplicações em renda fixa ofereçam uma remuneração menor, ou seja, queda no rendimento. \n",
    " \n",
    " Já na renda variável, a influência da Selic é menos imediata e mais ligada à especulação. Tendência de alta pode incentivar investidores conservadores a tirar dinheiro da bolsa e aplicar em títulos públicos, enquanto quedas podem estimular investidores moderados e arrojados a investir mais em ações, por exemplo.\n",
    "\n",
    "\n",
    "- Outras influências:\n",
    " Projeção de receitas de setores da economia, principalmente dos dependentes de consumo, como varejo e tecnologia e nas decisões de aportes internacionais no Brasil (taxa de juros alta pode representar vantagem competitiva para investidores estrangeiros).\n"
   ]
  },
  {
   "cell_type": "markdown",
   "metadata": {},
   "source": [
    "#### Taxa Selic na prática \n",
    "***"
   ]
  },
  {
   "cell_type": "markdown",
   "metadata": {},
   "source": [
    "<img src=\"https://www.bcb.gov.br/content/controleinflacao/Infograficos_controleinflacao/Info-Controle-Controle-da-Inflacao-1140px-v1.png\" width=\"350\"/>"
   ]
  },
  {
   "cell_type": "markdown",
   "metadata": {},
   "source": [
    "*Fonte: Banco Central do Brasil*"
   ]
  },
  {
   "cell_type": "markdown",
   "metadata": {},
   "source": [
    "***\n",
    "# Objetivos:\n",
    "***"
   ]
  },
  {
   "cell_type": "markdown",
   "metadata": {},
   "source": [
    " Analisar dados fornecidos pelo Portal de Dados Abertos do Banco Central do Brasil sobre a Taxa Selic, de 1986-06-04 a 2023-06-09, em % a.d., visando a extração das seguintes informações:\n",
    "\n",
    "- Evolução da Taxa Selic segundo períodos de vigências estabelecidos pelo BC, que possuam taxa anualizada (252 dias úteis) de 13.65% a.a. \n",
    "- Valores acumulados anuais da Taxa Selic Over de 2019 a 2022.\n",
    "- Comparação dos valores da Taxa Selic Over dos meses de Maio de 2020 (início da pandemia) e 2023 (fim da pandemia)."
   ]
  },
  {
   "cell_type": "markdown",
   "metadata": {},
   "source": [
    "***\n",
    "# Métodos:\n",
    "***"
   ]
  },
  {
   "cell_type": "markdown",
   "metadata": {},
   "source": [
    "- Leitura de arquivo .JSON e análise de dados utilizando linguagem de programação Python, suas bibliotecas e módulos como biblioteca Pandas e Datetime.\n",
    "- Visualização de dados utilizando a biblioteca Matplotlib da linguagem Python.\n"
   ]
  },
  {
   "cell_type": "markdown",
   "metadata": {},
   "source": [
    "#### Fonte: Portal de Dados Abertos do Banco Central do Brasil \n",
    "##### (Disponível em: https://api.bcb.gov.br/dados/serie/bcdata.sgs.11/dados?formato=json. Acesso em 09 junho 2023)"
   ]
  },
  {
   "cell_type": "markdown",
   "metadata": {},
   "source": [
    "***\n",
    "## Preparo dos dados\n",
    "***"
   ]
  },
  {
   "cell_type": "code",
   "execution_count": 1,
   "metadata": {
    "id": "aDE9c5vL4YJt"
   },
   "outputs": [
    {
     "name": "stdout",
     "output_type": "stream",
     "text": [
      "<class 'pandas.core.frame.DataFrame'>\n",
      "RangeIndex: 9278 entries, 0 to 9277\n",
      "Data columns (total 2 columns):\n",
      " #   Column  Non-Null Count  Dtype  \n",
      "---  ------  --------------  -----  \n",
      " 0   data    9278 non-null   object \n",
      " 1   valor   9278 non-null   float64\n",
      "dtypes: float64(1), object(1)\n",
      "memory usage: 145.1+ KB\n",
      "None\n"
     ]
    },
    {
     "data": {
      "text/html": [
       "<div>\n",
       "<style scoped>\n",
       "    .dataframe tbody tr th:only-of-type {\n",
       "        vertical-align: middle;\n",
       "    }\n",
       "\n",
       "    .dataframe tbody tr th {\n",
       "        vertical-align: top;\n",
       "    }\n",
       "\n",
       "    .dataframe thead th {\n",
       "        text-align: right;\n",
       "    }\n",
       "</style>\n",
       "<table border=\"1\" class=\"dataframe\">\n",
       "  <thead>\n",
       "    <tr style=\"text-align: right;\">\n",
       "      <th></th>\n",
       "      <th>data</th>\n",
       "      <th>valor</th>\n",
       "    </tr>\n",
       "  </thead>\n",
       "  <tbody>\n",
       "    <tr>\n",
       "      <th>0</th>\n",
       "      <td>04/06/1986</td>\n",
       "      <td>0.065041</td>\n",
       "    </tr>\n",
       "    <tr>\n",
       "      <th>1</th>\n",
       "      <td>05/06/1986</td>\n",
       "      <td>0.067397</td>\n",
       "    </tr>\n",
       "    <tr>\n",
       "      <th>2</th>\n",
       "      <td>06/06/1986</td>\n",
       "      <td>0.066740</td>\n",
       "    </tr>\n",
       "    <tr>\n",
       "      <th>3</th>\n",
       "      <td>09/06/1986</td>\n",
       "      <td>0.068247</td>\n",
       "    </tr>\n",
       "    <tr>\n",
       "      <th>4</th>\n",
       "      <td>10/06/1986</td>\n",
       "      <td>0.067041</td>\n",
       "    </tr>\n",
       "    <tr>\n",
       "      <th>...</th>\n",
       "      <td>...</td>\n",
       "      <td>...</td>\n",
       "    </tr>\n",
       "    <tr>\n",
       "      <th>9273</th>\n",
       "      <td>02/06/2023</td>\n",
       "      <td>0.050788</td>\n",
       "    </tr>\n",
       "    <tr>\n",
       "      <th>9274</th>\n",
       "      <td>05/06/2023</td>\n",
       "      <td>0.050788</td>\n",
       "    </tr>\n",
       "    <tr>\n",
       "      <th>9275</th>\n",
       "      <td>06/06/2023</td>\n",
       "      <td>0.050788</td>\n",
       "    </tr>\n",
       "    <tr>\n",
       "      <th>9276</th>\n",
       "      <td>07/06/2023</td>\n",
       "      <td>0.050788</td>\n",
       "    </tr>\n",
       "    <tr>\n",
       "      <th>9277</th>\n",
       "      <td>09/06/2023</td>\n",
       "      <td>0.050788</td>\n",
       "    </tr>\n",
       "  </tbody>\n",
       "</table>\n",
       "<p>9278 rows × 2 columns</p>\n",
       "</div>"
      ],
      "text/plain": [
       "            data     valor\n",
       "0     04/06/1986  0.065041\n",
       "1     05/06/1986  0.067397\n",
       "2     06/06/1986  0.066740\n",
       "3     09/06/1986  0.068247\n",
       "4     10/06/1986  0.067041\n",
       "...          ...       ...\n",
       "9273  02/06/2023  0.050788\n",
       "9274  05/06/2023  0.050788\n",
       "9275  06/06/2023  0.050788\n",
       "9276  07/06/2023  0.050788\n",
       "9277  09/06/2023  0.050788\n",
       "\n",
       "[9278 rows x 2 columns]"
      ]
     },
     "execution_count": 1,
     "metadata": {},
     "output_type": "execute_result"
    }
   ],
   "source": [
    "# Importação das bibliotecas e módulos\n",
    "import pandas as pd\n",
    "from datetime import date\n",
    "from datetime import datetime as dt\n",
    "\n",
    "# Leitura do arquivo e armazenamento na variável \"df_selic\"\n",
    "df_selic = pd.read_json(\"https://api.bcb.gov.br/dados/serie/bcdata.sgs.11/dados?formato=json\")\n",
    "\n",
    "# Captura de informações do arquivo\n",
    "print(df_selic.info())\n",
    "df_selic"
   ]
  },
  {
   "cell_type": "code",
   "execution_count": 2,
   "metadata": {
    "colab": {
     "base_uri": "https://localhost:8080/",
     "height": 414
    },
    "id": "YmRlXb4DG-Sy",
    "outputId": "cf9a0a4f-8164-4d35-cbc9-ca92abc7f98b"
   },
   "outputs": [
    {
     "data": {
      "text/html": [
       "<div>\n",
       "<style scoped>\n",
       "    .dataframe tbody tr th:only-of-type {\n",
       "        vertical-align: middle;\n",
       "    }\n",
       "\n",
       "    .dataframe tbody tr th {\n",
       "        vertical-align: top;\n",
       "    }\n",
       "\n",
       "    .dataframe thead th {\n",
       "        text-align: right;\n",
       "    }\n",
       "</style>\n",
       "<table border=\"1\" class=\"dataframe\">\n",
       "  <thead>\n",
       "    <tr style=\"text-align: right;\">\n",
       "      <th></th>\n",
       "      <th>valor</th>\n",
       "    </tr>\n",
       "    <tr>\n",
       "      <th>data</th>\n",
       "      <th></th>\n",
       "    </tr>\n",
       "  </thead>\n",
       "  <tbody>\n",
       "    <tr>\n",
       "      <th>2023-06-09</th>\n",
       "      <td>0.050788</td>\n",
       "    </tr>\n",
       "    <tr>\n",
       "      <th>2023-06-07</th>\n",
       "      <td>0.050788</td>\n",
       "    </tr>\n",
       "    <tr>\n",
       "      <th>2023-06-06</th>\n",
       "      <td>0.050788</td>\n",
       "    </tr>\n",
       "    <tr>\n",
       "      <th>2023-06-05</th>\n",
       "      <td>0.050788</td>\n",
       "    </tr>\n",
       "    <tr>\n",
       "      <th>2023-06-02</th>\n",
       "      <td>0.050788</td>\n",
       "    </tr>\n",
       "  </tbody>\n",
       "</table>\n",
       "</div>"
      ],
      "text/plain": [
       "               valor\n",
       "data                \n",
       "2023-06-09  0.050788\n",
       "2023-06-07  0.050788\n",
       "2023-06-06  0.050788\n",
       "2023-06-05  0.050788\n",
       "2023-06-02  0.050788"
      ]
     },
     "execution_count": 2,
     "metadata": {},
     "output_type": "execute_result"
    }
   ],
   "source": [
    "# Remoção de linhas duplicadas. \n",
    "df_selic.drop_duplicates(keep='last', inplace=True) \n",
    "\n",
    "# Alteração do formato das datas\n",
    "df_selic['data'] = pd.to_datetime(df_selic['data'], dayfirst=True)\n",
    "\n",
    "# Organização da coluna de data em ordem decrescente \n",
    "df_selic.sort_values(by='data', ascending=False, inplace=True)\n",
    "\n",
    "# Mudança dos índices para a data correspondente \n",
    "df_selic.set_index(keys=['data'], inplace=True)\n",
    "df_selic.head()"
   ]
  },
  {
   "cell_type": "markdown",
   "metadata": {},
   "source": [
    "***\n",
    "# Extração de Informações\n",
    "***"
   ]
  },
  {
   "cell_type": "markdown",
   "metadata": {},
   "source": [
    "## Evolução da Taxa Selic segundo períodos de vigência estabelecidos pelo BC\n",
    "\n",
    " Todos os períodos de vigência selecionados abaixo possuem taxa média diária de juros, anualizada com base em 252 dias úteis, de 13.65 % a.a."
   ]
  },
  {
   "cell_type": "markdown",
   "metadata": {},
   "source": [
    "##### Fonte: Taxas de juros básicas - Histórico (Banco Central do Brasil)\n",
    "\n",
    "Disponível em:https://www.bcb.gov.br/controleinflacao/historicotaxasjuros"
   ]
  },
  {
   "cell_type": "markdown",
   "metadata": {},
   "source": [
    "### Taxa Selic acumulada segundo cada período de vigência (nº publicação do COPOM de 248° a 253°)"
   ]
  },
  {
   "cell_type": "code",
   "execution_count": 3,
   "metadata": {},
   "outputs": [
    {
     "name": "stdout",
     "output_type": "stream",
     "text": [
      "Taxa Selic acumulada no período de vigência 248º é 1.73%\n",
      "Taxa Selic acumulada no período de vigência 249º é 1.22%\n",
      "Taxa Selic acumulada no período de vigência 250º é 1.42%\n",
      "Taxa Selic acumulada no período de vigência 251º é 2.03%\n",
      "Taxa Selic acumulada no período de vigência 252º é 1.68%\n",
      "Taxa Selic acumulada no período de vigência 253º é 1.37%\n"
     ]
    },
    {
     "data": {
      "text/html": [
       "<div>\n",
       "<style scoped>\n",
       "    .dataframe tbody tr th:only-of-type {\n",
       "        vertical-align: middle;\n",
       "    }\n",
       "\n",
       "    .dataframe tbody tr th {\n",
       "        vertical-align: top;\n",
       "    }\n",
       "\n",
       "    .dataframe thead th {\n",
       "        text-align: right;\n",
       "    }\n",
       "</style>\n",
       "<table border=\"1\" class=\"dataframe\">\n",
       "  <thead>\n",
       "    <tr style=\"text-align: right;\">\n",
       "      <th></th>\n",
       "      <th>Período</th>\n",
       "      <th>Valor</th>\n",
       "    </tr>\n",
       "  </thead>\n",
       "  <tbody>\n",
       "    <tr>\n",
       "      <th>taxa_248</th>\n",
       "      <td>2022-08-04 a 2022-09-21</td>\n",
       "      <td>1.726792</td>\n",
       "    </tr>\n",
       "    <tr>\n",
       "      <th>taxa_249</th>\n",
       "      <td>2022-09-22 a 2022-10-26</td>\n",
       "      <td>1.218912</td>\n",
       "    </tr>\n",
       "    <tr>\n",
       "      <th>taxa_250</th>\n",
       "      <td>2022-10-27 a 2022-12-07</td>\n",
       "      <td>1.422064</td>\n",
       "    </tr>\n",
       "    <tr>\n",
       "      <th>taxa_251</th>\n",
       "      <td>2022-12-08 a 2023-02-01</td>\n",
       "      <td>2.031520</td>\n",
       "    </tr>\n",
       "    <tr>\n",
       "      <th>taxa_252</th>\n",
       "      <td>2023-02-02 a 2023-03-22</td>\n",
       "      <td>1.676004</td>\n",
       "    </tr>\n",
       "    <tr>\n",
       "      <th>taxa_253</th>\n",
       "      <td>2023-03-23 a 2023-05-03</td>\n",
       "      <td>1.371276</td>\n",
       "    </tr>\n",
       "  </tbody>\n",
       "</table>\n",
       "</div>"
      ],
      "text/plain": [
       "                          Período     Valor\n",
       "taxa_248  2022-08-04 a 2022-09-21  1.726792\n",
       "taxa_249  2022-09-22 a 2022-10-26  1.218912\n",
       "taxa_250  2022-10-27 a 2022-12-07  1.422064\n",
       "taxa_251  2022-12-08 a 2023-02-01  2.031520\n",
       "taxa_252  2023-02-02 a 2023-03-22  1.676004\n",
       "taxa_253  2023-03-23 a 2023-05-03  1.371276"
      ]
     },
     "execution_count": 3,
     "metadata": {},
     "output_type": "execute_result"
    }
   ],
   "source": [
    "# Lista de períodos de vigência \n",
    "periodos = [\n",
    "    ('2022-08-04', '2022-09-21'),\n",
    "    ('2022-09-22', '2022-10-26'),\n",
    "    ('2022-10-27', '2022-12-07'),\n",
    "    ('2022-12-08', '2023-02-01'),\n",
    "    ('2023-02-02', '2023-03-22'),\n",
    "    ('2023-03-23', '2023-05-03')\n",
    "]\n",
    "\n",
    "# Dicionário para armazenar os resultados acumulados\n",
    "acumuladas = {}\n",
    "\n",
    "# Loop para calcular a taxa acumulada para cada período da lista e armazenar os resultados\n",
    "#Conversão \"pd.to_datatime\" para data não ser considerada string\n",
    "for i, periodo in enumerate(periodos):\n",
    "    data1 = pd.to_datetime(periodo[0])\n",
    "    data2 = pd.to_datetime(periodo[1])\n",
    "\n",
    "    # DataFrame com períodos de vigência, utilizando condicionais e booleanos\n",
    "    df_periodo = df_selic.loc[(df_selic.index >= data1) & (df_selic.index <= data2)]\n",
    "    # Cálculo da taxa acumulada para cada período \n",
    "    acumulada = df_periodo['valor'].sum()\n",
    "\n",
    "     # Adicionar a acumulada no dicionário\n",
    "    acumuladas[f'taxa_{i+248}'] = {\n",
    "        'Período': f'{data1.date()} a {data2.date()}',\n",
    "        'Valor': acumulada\n",
    "    }\n",
    "\n",
    "    # Impressão do resultado\n",
    "    print(f'Taxa Selic acumulada no período de vigência {i+248}º é {acumulada:.2f}%')\n",
    "\n",
    "# Criar as variáveis a partir do dicionário\n",
    "globals().update(acumuladas)\n",
    "\n",
    "#Criação de DataFrame com os períodos e os valores acumulados da Taxa Selic\n",
    "df_taxas = pd.DataFrame.from_dict(acumuladas, orient='index')\n",
    "df_taxas"
   ]
  },
  {
   "cell_type": "code",
   "execution_count": 4,
   "metadata": {},
   "outputs": [
    {
     "data": {
      "image/png": "[encoded data removed]",
      "text/plain": [
       "<Figure size 1000x500 with 1 Axes>"
      ]
     },
     "metadata": {},
     "output_type": "display_data"
    }
   ],
   "source": [
    "# Plotagem de gráfico\n",
    "\n",
    "# Importação do módulo \n",
    "from matplotlib import pyplot as plt\n",
    "\n",
    "# Plotagem de gráfico com as suas especificações de estilo e tamanho\n",
    "fig, ax = plt.subplots(figsize=(10, 5))\n",
    "df_taxas.plot(kind='bar',\n",
    "              ax=ax,\n",
    "              rot=0,\n",
    "              fontsize=12)\n",
    "\n",
    "# Configurações adicionais do gráfico\n",
    "plt.xlabel('Taxa')\n",
    "plt.ylabel('Valor(%)')\n",
    "plt.title('Evolução da Taxa Selic')\n",
    "\n",
    "# Adicionar os valores de \"Período\" acima das barras\n",
    "for i, bar in enumerate(ax.patches):\n",
    "    # Obter a altura da barra\n",
    "    height = bar.get_height()\n",
    "    \n",
    "    # Obter o valor do período correspondente\n",
    "    periodo = df_taxas['Período'].iloc[i]\n",
    "    \n",
    "    # Adicionar o texto do período acima da barra\n",
    "    ax.annotate(periodo, \n",
    "                xy=(bar.get_x() + bar.get_width() / 2, height), \n",
    "                xytext=(0, 3), \n",
    "                textcoords='offset points', \n",
    "                ha='center', \n",
    "                va='bottom', \n",
    "                fontsize=7)\n",
    "\n",
    "    # Ajustar as margens do gráfico\n",
    "plt.subplots_adjust(top=0.9, bottom=0.1, left=0.05, right=0.9)\n",
    "\n",
    "# Exibir o gráfico\n",
    "plt.show()"
   ]
  },
  {
   "cell_type": "markdown",
   "metadata": {},
   "source": [
    "## Histórico de valores da Taxa Selic Over"
   ]
  },
  {
   "cell_type": "markdown",
   "metadata": {},
   "source": [
    "### Valores acumulados anuais da Taxa Selic de 2019 a 2022"
   ]
  },
  {
   "cell_type": "code",
   "execution_count": 5,
   "metadata": {},
   "outputs": [
    {
     "name": "stdout",
     "output_type": "stream",
     "text": [
      "Taxa Selic acumulada no ano de 2019º é 5.79%\n",
      "Taxa Selic acumulada no ano de 2020º é 2.72%\n",
      "Taxa Selic acumulada no ano de 2021º é 4.33%\n",
      "Taxa Selic acumulada no ano de 2022º é 11.68%\n"
     ]
    },
    {
     "data": {
      "text/html": [
       "<div>\n",
       "<style scoped>\n",
       "    .dataframe tbody tr th:only-of-type {\n",
       "        vertical-align: middle;\n",
       "    }\n",
       "\n",
       "    .dataframe tbody tr th {\n",
       "        vertical-align: top;\n",
       "    }\n",
       "\n",
       "    .dataframe thead th {\n",
       "        text-align: right;\n",
       "    }\n",
       "</style>\n",
       "<table border=\"1\" class=\"dataframe\">\n",
       "  <thead>\n",
       "    <tr style=\"text-align: right;\">\n",
       "      <th></th>\n",
       "      <th>Período</th>\n",
       "      <th>Valor</th>\n",
       "    </tr>\n",
       "  </thead>\n",
       "  <tbody>\n",
       "    <tr>\n",
       "      <th>taxa_2019</th>\n",
       "      <td>2019-01-01 a 2019-12-31</td>\n",
       "      <td>5.789687</td>\n",
       "    </tr>\n",
       "    <tr>\n",
       "      <th>taxa_2020</th>\n",
       "      <td>2020-01-01 a 2020-12-31</td>\n",
       "      <td>2.720638</td>\n",
       "    </tr>\n",
       "    <tr>\n",
       "      <th>taxa_2021</th>\n",
       "      <td>2021-01-01 a 2021-12-31</td>\n",
       "      <td>4.329031</td>\n",
       "    </tr>\n",
       "    <tr>\n",
       "      <th>taxa_2022</th>\n",
       "      <td>2022-01-01 a 2022-12-31</td>\n",
       "      <td>11.684110</td>\n",
       "    </tr>\n",
       "  </tbody>\n",
       "</table>\n",
       "</div>"
      ],
      "text/plain": [
       "                           Período      Valor\n",
       "taxa_2019  2019-01-01 a 2019-12-31   5.789687\n",
       "taxa_2020  2020-01-01 a 2020-12-31   2.720638\n",
       "taxa_2021  2021-01-01 a 2021-12-31   4.329031\n",
       "taxa_2022  2022-01-01 a 2022-12-31  11.684110"
      ]
     },
     "execution_count": 5,
     "metadata": {},
     "output_type": "execute_result"
    }
   ],
   "source": [
    "# Lista de anos\n",
    "anos = [\n",
    "    ('2019-01-01', '2019-12-31'),\n",
    "    ('2020-01-01', '2020-12-31'),\n",
    "    ('2021-01-01', '2021-12-31'),\n",
    "    ('2022-01-01', '2022-12-31')\n",
    "]\n",
    "\n",
    "# Dicionário para armazenar os resultados acumulados\n",
    "taxas_anuais = {}\n",
    "\n",
    "# Loop para calcular a taxa acumulada para cada ano e armazenar os resultados\n",
    "#Conversão \"pd.to_datatime\" para data não ser considerada string\n",
    "for i, ano in enumerate(anos):\n",
    "    data1 = pd.to_datetime(ano[0])\n",
    "    data2 = pd.to_datetime(ano[1])\n",
    "\n",
    "    # DataFrame com cada ano, utilizando condicionais e booleanos\n",
    "    df_anos = df_selic.loc[(df_selic.index >= data1) & (df_selic.index <= data2)]\n",
    "    # Cálculo da taxa acumulada para cada ano \n",
    "    taxa_anual = df_anos['valor'].sum()\n",
    "\n",
    "     # Adicionar a acumulada no dicionário\n",
    "    taxas_anuais[f'taxa_{i+2019}'] = {\n",
    "        'Período': f'{data1.date()} a {data2.date()}',\n",
    "        'Valor': taxa_anual\n",
    "    }\n",
    "\n",
    "    # Impressão do resultado\n",
    "    print(f'Taxa Selic acumulada no ano de {i+2019}º é {taxa_anual:.2f}%')\n",
    "\n",
    "# Criar as variáveis a partir do dicionário\n",
    "globals().update(taxas_anuais)\n",
    "\n",
    "#Criação de DataFrame com os anos e os valores acumulados da Taxa Selic\n",
    "df_taxas_anuais = pd.DataFrame.from_dict(taxas_anuais, orient='index')\n",
    "df_taxas_anuais"
   ]
  },
  {
   "cell_type": "code",
   "execution_count": 6,
   "metadata": {},
   "outputs": [
    {
     "data": {
      "image/png": "[encoded data removed]",
      "text/plain": [
       "<Figure size 800x500 with 1 Axes>"
      ]
     },
     "metadata": {},
     "output_type": "display_data"
    },
    {
     "data": {
      "image/png": "[encoded data removed]",
      "text/plain": [
       "<Figure size 800x500 with 1 Axes>"
      ]
     },
     "metadata": {},
     "output_type": "display_data"
    }
   ],
   "source": [
    "#Plotagem de gráfico\n",
    "\n",
    "# Plotagem de gráfico em barra\n",
    "df_taxas_anuais.plot(kind='bar',\n",
    "              figsize=(8, 5),\n",
    "              rot=0,\n",
    "              fontsize=12,\n",
    "              color='orange')\n",
    "\n",
    "# Plotagem de gráfico em linha\n",
    "df_taxas_anuais.plot(kind='line',\n",
    "              figsize=(8, 5),\n",
    "              rot=0,\n",
    "              fontsize=12,\n",
    "              color='orange')\n",
    "\n",
    "# Configurações adicionais do gráfico\n",
    "plt.xlabel('Ano')\n",
    "plt.ylabel('Valor(%)')\n",
    "plt.title('Taxa Selic Acumulada por Ano (2019-2022)')\n",
    "\n",
    "# Exibir o gráfico\n",
    "plt.show()"
   ]
  },
  {
   "cell_type": "markdown",
   "metadata": {},
   "source": [
    "## Comparação do Histórico de valores da Taxa Selic Over"
   ]
  },
  {
   "cell_type": "markdown",
   "metadata": {},
   "source": [
    "Comparação dos valores da Taxa Selic Over do mês de Maio dos anos de 2020 (início da pandemia) e 2023 (fim da pandemia)."
   ]
  },
  {
   "cell_type": "code",
   "execution_count": 7,
   "metadata": {},
   "outputs": [
    {
     "data": {
      "text/html": [
       "<div>\n",
       "<style scoped>\n",
       "    .dataframe tbody tr th:only-of-type {\n",
       "        vertical-align: middle;\n",
       "    }\n",
       "\n",
       "    .dataframe tbody tr th {\n",
       "        vertical-align: top;\n",
       "    }\n",
       "\n",
       "    .dataframe thead th {\n",
       "        text-align: right;\n",
       "    }\n",
       "</style>\n",
       "<table border=\"1\" class=\"dataframe\">\n",
       "  <thead>\n",
       "    <tr style=\"text-align: right;\">\n",
       "      <th></th>\n",
       "      <th>valor</th>\n",
       "    </tr>\n",
       "    <tr>\n",
       "      <th>data</th>\n",
       "      <th></th>\n",
       "    </tr>\n",
       "  </thead>\n",
       "  <tbody>\n",
       "    <tr>\n",
       "      <th>2020-05-29</th>\n",
       "      <td>0.011345</td>\n",
       "    </tr>\n",
       "    <tr>\n",
       "      <th>2020-05-28</th>\n",
       "      <td>0.011345</td>\n",
       "    </tr>\n",
       "    <tr>\n",
       "      <th>2020-05-27</th>\n",
       "      <td>0.011345</td>\n",
       "    </tr>\n",
       "    <tr>\n",
       "      <th>2020-05-26</th>\n",
       "      <td>0.011345</td>\n",
       "    </tr>\n",
       "    <tr>\n",
       "      <th>2020-05-25</th>\n",
       "      <td>0.011345</td>\n",
       "    </tr>\n",
       "  </tbody>\n",
       "</table>\n",
       "</div>"
      ],
      "text/plain": [
       "               valor\n",
       "data                \n",
       "2020-05-29  0.011345\n",
       "2020-05-28  0.011345\n",
       "2020-05-27  0.011345\n",
       "2020-05-26  0.011345\n",
       "2020-05-25  0.011345"
      ]
     },
     "execution_count": 7,
     "metadata": {},
     "output_type": "execute_result"
    }
   ],
   "source": [
    "#Maio de 2020\n",
    "#Conversão das datas para não serem consideradas string\n",
    "data1 = pd.to_datetime('2020-05-01')\n",
    "data2 = pd.to_datetime('2020-05-31')\n",
    "\n",
    "#Condicionais e booleano para filtrar o mês de Maio/2020\n",
    "filtro_maio_2020 = (df_selic.index >= data1) & (df_selic.index <= data2)\n",
    "\n",
    "#Aplicação do filtro para valores de maio de 2020 armazenados em DataFrame\n",
    "df_maio_2020 = df_selic.loc[filtro_maio_2020] \n",
    "df_maio_2020.head()"
   ]
  },
  {
   "cell_type": "code",
   "execution_count": 8,
   "metadata": {},
   "outputs": [
    {
     "data": {
      "text/html": [
       "<div>\n",
       "<style scoped>\n",
       "    .dataframe tbody tr th:only-of-type {\n",
       "        vertical-align: middle;\n",
       "    }\n",
       "\n",
       "    .dataframe tbody tr th {\n",
       "        vertical-align: top;\n",
       "    }\n",
       "\n",
       "    .dataframe thead th {\n",
       "        text-align: right;\n",
       "    }\n",
       "</style>\n",
       "<table border=\"1\" class=\"dataframe\">\n",
       "  <thead>\n",
       "    <tr style=\"text-align: right;\">\n",
       "      <th></th>\n",
       "      <th>valor</th>\n",
       "    </tr>\n",
       "    <tr>\n",
       "      <th>data</th>\n",
       "      <th></th>\n",
       "    </tr>\n",
       "  </thead>\n",
       "  <tbody>\n",
       "    <tr>\n",
       "      <th>2023-05-31</th>\n",
       "      <td>0.050788</td>\n",
       "    </tr>\n",
       "    <tr>\n",
       "      <th>2023-05-30</th>\n",
       "      <td>0.050788</td>\n",
       "    </tr>\n",
       "    <tr>\n",
       "      <th>2023-05-29</th>\n",
       "      <td>0.050788</td>\n",
       "    </tr>\n",
       "    <tr>\n",
       "      <th>2023-05-26</th>\n",
       "      <td>0.050788</td>\n",
       "    </tr>\n",
       "    <tr>\n",
       "      <th>2023-05-25</th>\n",
       "      <td>0.050788</td>\n",
       "    </tr>\n",
       "  </tbody>\n",
       "</table>\n",
       "</div>"
      ],
      "text/plain": [
       "               valor\n",
       "data                \n",
       "2023-05-31  0.050788\n",
       "2023-05-30  0.050788\n",
       "2023-05-29  0.050788\n",
       "2023-05-26  0.050788\n",
       "2023-05-25  0.050788"
      ]
     },
     "execution_count": 8,
     "metadata": {},
     "output_type": "execute_result"
    }
   ],
   "source": [
    "#Maio de 2023\n",
    "#Conversão das datas para não serem consideradas string\n",
    "data1 = pd.to_datetime('2023-05-01')\n",
    "data2 = pd.to_datetime('2023-05-31')\n",
    "\n",
    "#Condicionais e booleano para filtrar o mês de Maio/2023\n",
    "filtro_maio_2023 = (df_selic.index >= data1) & (df_selic.index <= data2)\n",
    "\n",
    "#Aplicação do filtro para valores de maio de 2020 armazenados em DataFrame\n",
    "df_maio_2023 = df_selic.loc[filtro_maio_2023] \n",
    "df_maio_2023.head()"
   ]
  },
  {
   "cell_type": "code",
   "execution_count": 9,
   "metadata": {},
   "outputs": [
    {
     "name": "stdout",
     "output_type": "stream",
     "text": [
      "A Taxa Selic acumulada no mês de maio de 2020 é 0.24% e em maio de 2023 é 1.12%\n"
     ]
    }
   ],
   "source": [
    "#Taxa Selic acumulada durante os meses de Maio de 2020 e 2023\n",
    "\n",
    "acumulada_maio_2020 = df_maio_2020['valor'].sum()\n",
    "acumulada_maio_2023 = df_maio_2023['valor'].sum()\n",
    "\n",
    "print(f'A Taxa Selic acumulada no mês de maio de 2020 é {acumulada_maio_2020:.2f}% e em maio de 2023 é {acumulada_maio_2023:.2f}%')"
   ]
  },
  {
   "cell_type": "markdown",
   "metadata": {},
   "source": [
    "### Estatística descritiva\n",
    "Métodos da estatística descritiva para extrair informações e comparar os meses de Maio de 2020 e 2023."
   ]
  },
  {
   "cell_type": "code",
   "execution_count": 10,
   "metadata": {},
   "outputs": [
    {
     "data": {
      "text/html": [
       "<div>\n",
       "<style scoped>\n",
       "    .dataframe tbody tr th:only-of-type {\n",
       "        vertical-align: middle;\n",
       "    }\n",
       "\n",
       "    .dataframe tbody tr th {\n",
       "        vertical-align: top;\n",
       "    }\n",
       "\n",
       "    .dataframe thead th {\n",
       "        text-align: right;\n",
       "    }\n",
       "</style>\n",
       "<table border=\"1\" class=\"dataframe\">\n",
       "  <thead>\n",
       "    <tr style=\"text-align: right;\">\n",
       "      <th></th>\n",
       "      <th>Mínimo</th>\n",
       "      <th>Máximo</th>\n",
       "      <th>Média</th>\n",
       "    </tr>\n",
       "    <tr>\n",
       "      <th>Índice</th>\n",
       "      <th></th>\n",
       "      <th></th>\n",
       "      <th></th>\n",
       "    </tr>\n",
       "  </thead>\n",
       "  <tbody>\n",
       "    <tr>\n",
       "      <th>maio_2020</th>\n",
       "      <td>0.011345</td>\n",
       "      <td>0.014227</td>\n",
       "      <td>0.011777</td>\n",
       "    </tr>\n",
       "    <tr>\n",
       "      <th>maio_2023</th>\n",
       "      <td>0.050788</td>\n",
       "      <td>0.050788</td>\n",
       "      <td>0.050788</td>\n",
       "    </tr>\n",
       "  </tbody>\n",
       "</table>\n",
       "</div>"
      ],
      "text/plain": [
       "             Mínimo    Máximo     Média\n",
       "Índice                                 \n",
       "maio_2020  0.011345  0.014227  0.011777\n",
       "maio_2023  0.050788  0.050788  0.050788"
      ]
     },
     "execution_count": 10,
     "metadata": {},
     "output_type": "execute_result"
    }
   ],
   "source": [
    "# Dicionário com valores máximo, mínimo e média dos meses de Maio de 2020 e 2023\n",
    "estatisticas = {'Índice': ['maio_2020', 'maio_2023'],\n",
    "        'Mínimo': [df_maio_2020['valor'].min(), df_maio_2023['valor'].min()],\n",
    "        'Máximo': [df_maio_2020['valor'].max(), df_maio_2023['valor'].max()],\n",
    "        'Média': [df_maio_2020['valor'].mean(), df_maio_2023['valor'].mean()]}\n",
    "\n",
    "# Criação do DataFrame\n",
    "df_estatisticas = pd.DataFrame.from_dict(estatisticas)\n",
    "df_estatisticas\n",
    "\n",
    "# Mudança dos índices \n",
    "df_estatisticas.set_index(keys=['Índice'], inplace=True)\n",
    "df_estatisticas.head()\n"
   ]
  },
  {
   "cell_type": "markdown",
   "metadata": {},
   "source": [
    "Obs: os valores de máximo, mínimo e média de Maio/2023 foram os mesmos (0.050%). "
   ]
  },
  {
   "cell_type": "code",
   "execution_count": 11,
   "metadata": {},
   "outputs": [
    {
     "name": "stdout",
     "output_type": "stream",
     "text": [
      "A menor taxa Selic do mês de maio de 2020 é 0.011% registrada em 2020-05-29\n",
      "A maior taxa Selic do mês de maio de 2020 é 0.014% registrada em 2020-05-06\n"
     ]
    }
   ],
   "source": [
    "# Valores máximo e mínimo de Maio/2020 e as datas correspondentes\n",
    "min_mai20 = df_maio_2020['valor'].min()\n",
    "data_min_mai20 = df_maio_2020['valor'].idxmin()\n",
    "\n",
    "max_mai20 = df_maio_2020['valor'].max()\n",
    "data_max_mai20 = df_maio_2020['valor'].idxmax()\n",
    "\n",
    "print(f'A menor taxa Selic do mês de maio de 2020 é {min_mai20:.3f}% registrada em {data_min_mai20:%Y-%m-%d}')\n",
    "print(f'A maior taxa Selic do mês de maio de 2020 é {max_mai20:.3f}% registrada em {data_max_mai20:%Y-%m-%d}')"
   ]
  },
  {
   "cell_type": "code",
   "execution_count": 12,
   "metadata": {},
   "outputs": [
    {
     "data": {
      "text/plain": [
       "<AxesSubplot:xlabel='Índice'>"
      ]
     },
     "execution_count": 12,
     "metadata": {},
     "output_type": "execute_result"
    },
    {
     "data": {
      "image/png": "[encoded data removed]",
      "text/plain": [
       "<Figure size 500x300 with 1 Axes>"
      ]
     },
     "metadata": {},
     "output_type": "display_data"
    }
   ],
   "source": [
    "#Plotagem do gráfico de barras de cada índice\n",
    "df_estatisticas.plot(y=['Mínimo', 'Máximo', 'Média'], kind='bar', figsize=(5, 3), rot=0, fontsize=12)"
   ]
  },
  {
   "cell_type": "markdown",
   "metadata": {},
   "source": [
    "Observa-se que os valores de mínimo, máximo e média de Maio de 2020 pouco diferem entre si e em Maio de 2023 nada diferem. "
   ]
  },
  {
   "cell_type": "markdown",
   "metadata": {},
   "source": [
    "***\n",
    "# Conclusão\n",
    "***"
   ]
  },
  {
   "cell_type": "markdown",
   "metadata": {},
   "source": [
    " A taxa Selic é um indicador regulamentador da economia brasileira. Sua influência está em aspectos basilares da vida financeira, como na definição de taxas de empréstimos, rendimentos de investimentos e controle da inflação.\n",
    " Uma nova taxa é definida a cada quarenta e cinco dias. A soma das taxas de cada mês geram a taxa Selic acumulada  do ano. O Copom estabelece a taxa de juros anual e monitora as variações durante o período. \n",
    " \n",
    "  **Considerando períodos com taxas de 13.65% a.a., o maior valor registrado foi de 08 de dezembro de 2022 a 01 de fevereiro de 2023, 2.03% e o menor valor registrado foi de 22 de setembro de 2022 a 26 de outubro de 2022, 1.22%.**\n",
    "  \n",
    " A taxa Selic é dividida em Meta, estabelecida pelo COPOM, que regula a Economia, alterando os juros diretamente ao consumidor, e a Over, estabelecida pelo próprio mercado com base em suas transações internas. \n",
    " \n",
    " **Do histórico de valores da Taxa Selic Over, de 2019 a 2022, a maior taxa Selic acumulada é de 2022, próximo do fim da pandemia, 11.68% e a menor é de 2020, início da pandemia, 2.72%.**\n",
    " \n",
    " **Comparando os meses de maio, no ano de 2023 (fim da pandemia) tanto a mínima quanto a máxima foram superiores ao ano de 2020 (começo da pandemia). A taxa Selic média de maio de 2020 foi 0.01% e a de maio de 2023 foi de 0.05%.**\n",
    "  \n",
    "  Conclui-se que com a diminuição da taxa Selic o crédito torna-se mais acessível, já que os bancos e instituições financeiras tendem a baixar as taxas de juros. Nisso a inflação tende a subir e os preços podem sofrer aumento.\n",
    "  \n",
    "   Ademais, se a taxa Selic aumenta, os preços tendem a diminuir ou estabilizar como consequência do controle da inflação. Os juros de crédito, parcelamento e cheque especial ficam mais altos, ao passo que rendimentos de investimentos em Renda Fixa ou títulos públicos indexados à Selic aumentam. \n"
   ]
  },
  {
   "cell_type": "markdown",
   "metadata": {},
   "source": [
    "***\n",
    "# Referências\n",
    "***"
   ]
  },
  {
   "cell_type": "markdown",
   "metadata": {},
   "source": [
    "BANCO CENTRAL DO BRASIL. Taxa Selic. Disponível em: https://www.bcb.gov.br/controleinflacao/taxaselic\n",
    "  \n",
    "  BLOG NUBANK. Taxa Selic baixa: é bom ou ruim para meu dinheiro?. Disponível em: https://blog.nubank.com.br/taxa-selic-baixa-e-bom-ou-ruim/\n",
    "  \n",
    "  BORA INVESTIR B3. O que é taxa Selic? Entenda como ela afeta seu dinheiro. Disponível em: https://borainvestir.b3.com.br/objetivos-financeiros/o-que-e-taxa-selic-entenda-como-ela-afeta-seu-dinheiro/\n",
    " \n",
    "FUTURE INVEST. Taxa Selic: o que é, atual, mensal, anual e acumulada. Entenda tudo sobre a taxa. Disponível em: https://www.futureinvest.com.br/post/taxa-selic-o-que-%C3%A9-atual-mensal-anual-e-acumulada-entenda-tudo-sobre-a-taxa\n",
    "\n",
    "REMESSA ONLINE. Qual é a taxa Selic hoje? Bacen mantém Selic em 13,75%. Disponível em: https://www.remessaonline.com.br/blog/qual-e-a-taxa-selic-hoje-acompanhe-o-comportamento-da-taxa/ \n",
    "\n",
    "T2. Selic Meta x Selic Over - Como diferenciá-las? .  Disponível em: https://t2.com.br/blog/selic-meta-x-selic-over/\n"
   ]
  }
 ],
 "metadata": {
  "colab": {
   "provenance": []
  },
  "kernelspec": {
   "display_name": "Python 3 (ipykernel)",
   "language": "python",
   "name": "python3"
  },
  "language_info": {
   "codemirror_mode": {
    "name": "ipython",
    "version": 3
   },
   "file_extension": ".py",
   "mimetype": "text/x-python",
   "name": "python",
   "nbconvert_exporter": "python",
   "pygments_lexer": "ipython3",
   "version": "3.9.13"
  }
 },
 "nbformat": 4,
 "nbformat_minor": 1
}
